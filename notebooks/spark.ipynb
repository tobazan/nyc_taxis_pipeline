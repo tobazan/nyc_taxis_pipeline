{
 "cells": [
  {
   "cell_type": "code",
   "execution_count": 41,
   "metadata": {},
   "outputs": [],
   "source": [
    "from pyspark.sql import SparkSession\n",
    "from pyspark.conf import SparkConf\n",
    "\n",
    "from pyspark.sql.functions import count, col, from_unixtime, lit, year, quarter, month, bround\n",
    "from pyspark.sql.types import *"
   ]
  },
  {
   "cell_type": "code",
   "execution_count": 2,
   "metadata": {},
   "outputs": [
    {
     "name": "stdout",
     "output_type": "stream",
     "text": [
      "22/10/22 18:45:23 WARN Utils: Your hostname, TOBA_ASUS resolves to a loopback address: 127.0.1.1; using 172.19.216.97 instead (on interface eth0)\n",
      "22/10/22 18:45:23 WARN Utils: Set SPARK_LOCAL_IP if you need to bind to another address\n"
     ]
    },
    {
     "name": "stderr",
     "output_type": "stream",
     "text": [
      "Setting default log level to \"WARN\".\n",
      "To adjust logging level use sc.setLogLevel(newLevel). For SparkR, use setLogLevel(newLevel).\n"
     ]
    },
    {
     "name": "stdout",
     "output_type": "stream",
     "text": [
      "22/10/22 18:45:24 WARN NativeCodeLoader: Unable to load native-hadoop library for your platform... using builtin-java classes where applicable\n"
     ]
    }
   ],
   "source": [
    "conf = SparkConf()\n",
    "conf.setMaster(\"local\").setAppName(\"bronze_layer\")\n",
    "spark = SparkSession.builder.config(conf=conf).getOrCreate()"
   ]
  },
  {
   "cell_type": "code",
   "execution_count": 3,
   "metadata": {},
   "outputs": [],
   "source": [
    "yellow_schema = StructType([\n",
    "                    StructField('VendorID', IntegerType(), True),\n",
    "                    StructField('tpep_pickup_datetime', TimestampType(), True),\n",
    "                    StructField('tpep_dropoff_datetime', TimestampType(), True),\n",
    "                    StructField('passenger_count', IntegerType(), True),\n",
    "                    StructField('trip_distance', DoubleType(), True),\n",
    "                    StructField('RatecodeID', IntegerType(), True),\n",
    "                    StructField('store_and_fwd_flag', StringType(), True),\n",
    "                    StructField('PULocationID', IntegerType(), True),\n",
    "                    StructField('DOLocationID', IntegerType(), True),\n",
    "                    StructField('payment_type', IntegerType(), True),\n",
    "                    StructField('fare_amount', DoubleType(), True),\n",
    "                    StructField('extra', DoubleType(), True),\n",
    "                    StructField('mta_tax', DoubleType(), True),\n",
    "                    StructField('tip_amount', DoubleType(), True),\n",
    "                    StructField('tolls_amount', DoubleType(), True),\n",
    "                    StructField('improvement_surcharge', DoubleType(), True),\n",
    "                    StructField('total_amount', DoubleType(), True),\n",
    "                    StructField('congestion_surcharge', DoubleType(), True),\n",
    "                    StructField('airport_fee', DoubleType(), True),\n",
    "                ])\n",
    "\n",
    "green_schema = StructType([\n",
    "                    StructField('VendorID', IntegerType(), True),\n",
    "                    StructField('lpep_pickup_datetime', TimestampType(), True),\n",
    "                    StructField('lpep_dropoff_datetime', TimestampType(), True),\n",
    "                    StructField('store_and_fwd_flag', StringType(), True),\n",
    "                    StructField('RatecodeID', IntegerType(), True),\n",
    "                    StructField('PULocationID', IntegerType(), True),\n",
    "                    StructField('DOLocationID', IntegerType(), True),\n",
    "                    StructField('passenger_count', IntegerType(), True),\n",
    "                    StructField('trip_distance', DoubleType(), True),\n",
    "                    StructField('fare_amount', DoubleType(), True),\n",
    "                    StructField('extra', DoubleType(), True),\n",
    "                    StructField('mta_tax', DoubleType(), True),\n",
    "                    StructField('tip_amount', DoubleType(), True),\n",
    "                    StructField('tolls_amount', DoubleType(), True),\n",
    "                    StructField('ehail_fee', DoubleType(), True),\n",
    "                    StructField('improvement_surcharge', DoubleType(), True),\n",
    "                    StructField('total_amount', DoubleType(), True),\n",
    "                    StructField('payment_type', IntegerType(), True),\n",
    "                    StructField('trip_type', IntegerType(), True),\n",
    "                    StructField('congestion_surcharge', DoubleType(), True)\n",
    "                ])"
   ]
  },
  {
   "cell_type": "code",
   "execution_count": 5,
   "metadata": {},
   "outputs": [
    {
     "name": "stderr",
     "output_type": "stream",
     "text": [
      "                                                                                \r"
     ]
    }
   ],
   "source": [
    "green_df = spark.read.parquet('../../nyc_taxis/data/green*.parquet', schema=green_schema)"
   ]
  },
  {
   "cell_type": "code",
   "execution_count": 6,
   "metadata": {},
   "outputs": [],
   "source": [
    "yellow_df = spark.read.parquet('../../nyc_taxis/data/yellow*.parquet', schema=yellow_schema)"
   ]
  },
  {
   "cell_type": "code",
   "execution_count": 18,
   "metadata": {},
   "outputs": [],
   "source": [
    "taxis_df = (yellow_df.select(\n",
    "        col(\"VendorID\").alias(\"vendor_id\"),\n",
    "        col(\"PULocationID\").alias(\"pickup_location_id\"),\n",
    "        col(\"tpep_pickup_datetime\").alias(\"pickup_ts\"),\n",
    "        col(\"DOLocationID\").alias(\"dropoff_location_id\"),\n",
    "        col(\"tpep_dropoff_datetime\").alias(\"dropoff_ts\"),\n",
    "        col(\"RatecodeID\").alias(\"rate_code_id\"),\n",
    "        \"passenger_count\",\n",
    "        \"store_and_fwd_flag\",\n",
    "        \"trip_distance\",\n",
    "        \"total_amount\",\n",
    "        \"fare_amount\",\n",
    "        \"extra\",\n",
    "        \"mta_tax\",\n",
    "        \"tip_amount\",\n",
    "        \"tolls_amount\",\n",
    "        \"improvement_surcharge\",\n",
    "        \"congestion_surcharge\",\n",
    "    )\n",
    "    .withColumn(\"taxi_type\", lit(\"yellow\"))\n",
    ").union(green_df.select(\n",
    "        col(\"VendorID\").alias(\"vendor_id\"),\n",
    "        col(\"PULocationID\").alias(\"pickup_location_id\"),\n",
    "        col(\"lpep_pickup_datetime\").alias(\"pickup_ts\"),\n",
    "        col(\"DOLocationID\").alias(\"dropoff_location_id\"),\n",
    "        col(\"lpep_dropoff_datetime\").alias(\"dropoff_ts\"),\n",
    "        col(\"RatecodeID\").alias(\"rate_code_id\"),\n",
    "        \"passenger_count\",\n",
    "        \"store_and_fwd_flag\",\n",
    "        \"trip_distance\",\n",
    "        \"total_amount\",\n",
    "        \"fare_amount\",\n",
    "        \"extra\",\n",
    "        \"mta_tax\",\n",
    "        \"tip_amount\",\n",
    "        \"tolls_amount\",\n",
    "        \"improvement_surcharge\",\n",
    "        \"congestion_surcharge\",\n",
    "    )\n",
    "    .withColumn(\"taxi_type\", lit(\"green\"))\n",
    ")"
   ]
  },
  {
   "cell_type": "code",
   "execution_count": 33,
   "metadata": {},
   "outputs": [],
   "source": [
    "total_records = taxis_df.count()"
   ]
  },
  {
   "cell_type": "code",
   "execution_count": 19,
   "metadata": {},
   "outputs": [
    {
     "name": "stdout",
     "output_type": "stream",
     "text": [
      "+---------+------------------+-------------------+-------------------+-------------------+------------+---------------+------------------+-------------+------------+-----------+-----+-------+----------+------------+---------------------+--------------------+---------+\n",
      "|vendor_id|pickup_location_id|          pickup_ts|dropoff_location_id|         dropoff_ts|rate_code_id|passenger_count|store_and_fwd_flag|trip_distance|total_amount|fare_amount|extra|mta_tax|tip_amount|tolls_amount|improvement_surcharge|congestion_surcharge|taxi_type|\n",
      "+---------+------------------+-------------------+-------------------+-------------------+------------+---------------+------------------+-------------+------------+-----------+-----+-------+----------+------------+---------------------+--------------------+---------+\n",
      "|        1|               238|2019-12-31 21:28:15|                239|2019-12-31 21:33:03|         1.0|            1.0|                 N|          1.2|       11.27|        6.0|  3.0|    0.5|      1.47|         0.0|                  0.3|                 2.5|   yellow|\n",
      "|        1|               239|2019-12-31 21:35:39|                238|2019-12-31 21:43:04|         1.0|            1.0|                 N|          1.2|        12.3|        7.0|  3.0|    0.5|       1.5|         0.0|                  0.3|                 2.5|   yellow|\n",
      "|        1|               238|2019-12-31 21:47:41|                238|2019-12-31 21:53:52|         1.0|            1.0|                 N|          0.6|        10.8|        6.0|  3.0|    0.5|       1.0|         0.0|                  0.3|                 2.5|   yellow|\n",
      "|        1|               238|2019-12-31 21:55:23|                151|2019-12-31 22:00:14|         1.0|            1.0|                 N|          0.8|        8.16|        5.5|  0.5|    0.5|      1.36|         0.0|                  0.3|                 0.0|   yellow|\n",
      "|        2|               193|2019-12-31 21:01:58|                193|2019-12-31 21:04:16|         1.0|            1.0|                 N|          0.0|         4.8|        3.5|  0.5|    0.5|       0.0|         0.0|                  0.3|                 0.0|   yellow|\n",
      "+---------+------------------+-------------------+-------------------+-------------------+------------+---------------+------------------+-------------+------------+-----------+-----+-------+----------+------------+---------------------+--------------------+---------+\n",
      "only showing top 5 rows\n",
      "\n"
     ]
    }
   ],
   "source": [
    "taxis_df.show(5)"
   ]
  },
  {
   "cell_type": "code",
   "execution_count": 49,
   "metadata": {},
   "outputs": [],
   "source": [
    "mt_count = taxis_df \\\n",
    "    .withColumn(\"pickup_yr\", year(col(\"pickup_ts\"))) \\\n",
    "    .withColumn(\"pickup_mt\", month(col(\"pickup_ts\"))) \\\n",
    "    .filter(\"pickup_yr >= 2020\") \\\n",
    "    .filter(\"pickup_yr <= 2021\") \\\n",
    "    .groupby(\"pickup_mt\") \\\n",
    "    .count()\n",
    "\n",
    "qt_count = taxis_df \\\n",
    "    .withColumn(\"pickup_yr\", year(col(\"pickup_ts\"))) \\\n",
    "    .withColumn(\"pickup_qt\", quarter(col(\"pickup_ts\"))) \\\n",
    "    .filter(\"pickup_yr >= 2020\") \\\n",
    "    .filter(\"pickup_yr <= 2021\") \\\n",
    "    .groupby(\"pickup_qt\") \\\n",
    "    .count()"
   ]
  },
  {
   "cell_type": "code",
   "execution_count": 46,
   "metadata": {},
   "outputs": [
    {
     "name": "stderr",
     "output_type": "stream",
     "text": [
      "[Stage 49:==============================================>          (9 + 1) / 11]\r"
     ]
    },
    {
     "name": "stdout",
     "output_type": "stream",
     "text": [
      "+---------+-------+---------+\n",
      "|pickup_mt|  count|pct_total|\n",
      "+---------+-------+---------+\n",
      "|        1|8276749|    14.18|\n",
      "|        6|3536274|     6.06|\n",
      "|        3|5210792|     8.93|\n",
      "|        5|2998074|     5.14|\n",
      "|        4|2535633|     4.35|\n",
      "|        7|3785073|     6.49|\n",
      "|        2|8138797|    13.95|\n",
      "|       12|4858776|     8.33|\n",
      "|        9|4491785|      7.7|\n",
      "|       10|5354484|     9.18|\n",
      "|       11|5171880|     8.86|\n",
      "|        8|3952741|     6.77|\n",
      "+---------+-------+---------+\n",
      "\n"
     ]
    },
    {
     "name": "stderr",
     "output_type": "stream",
     "text": [
      "                                                                                \r"
     ]
    }
   ],
   "source": [
    "mt_count.withColumn(\"pct_total\", bround(100*col(\"count\")/total_records, 2)).show(24)"
   ]
  },
  {
   "cell_type": "code",
   "execution_count": 50,
   "metadata": {},
   "outputs": [
    {
     "name": "stderr",
     "output_type": "stream",
     "text": [
      "[Stage 55:==============================================>          (9 + 1) / 11]\r"
     ]
    },
    {
     "name": "stdout",
     "output_type": "stream",
     "text": [
      "+---------+--------+---------+\n",
      "|pickup_qt|   count|pct_total|\n",
      "+---------+--------+---------+\n",
      "|        1|21626338|    37.06|\n",
      "|        3|12229599|    20.96|\n",
      "|        2| 9069981|    15.54|\n",
      "|        4|15385140|    26.36|\n",
      "+---------+--------+---------+\n",
      "\n"
     ]
    },
    {
     "name": "stderr",
     "output_type": "stream",
     "text": [
      "                                                                                \r"
     ]
    }
   ],
   "source": [
    "qt_count.withColumn(\"pct_total\", bround(100*col(\"count\")/total_records, 2)).show(24)"
   ]
  },
  {
   "cell_type": "code",
   "execution_count": 53,
   "metadata": {},
   "outputs": [
    {
     "name": "stderr",
     "output_type": "stream",
     "text": [
      "                                                                                \r"
     ]
    }
   ],
   "source": [
    "taxis_df \\\n",
    "    .withColumn(\"pickup_yr\", year(col(\"pickup_ts\"))) \\\n",
    "    .withColumn(\"pickup_qt\", quarter(col(\"pickup_ts\"))) \\\n",
    "    .filter(\"pickup_yr >= 2020\") \\\n",
    "    .filter(\"pickup_yr <= 2021\") \\\n",
    "    .write.partitionBy(\"pickup_qt\") \\\n",
    "    .saveAsTable(\"taxis_bronze\", mode=\"overwrite\")"
   ]
  },
  {
   "cell_type": "code",
   "execution_count": 52,
   "metadata": {},
   "outputs": [
    {
     "name": "stderr",
     "output_type": "stream",
     "text": [
      "[Stage 58:==========>      (7 + 1) / 11][Stage 59:>                (0 + 0) / 11]\r"
     ]
    },
    {
     "name": "stdout",
     "output_type": "stream",
     "text": [
      "22/10/22 19:38:46 WARN BasicWriteTaskStatsTracker: Expected 4 files, but only saw 3. This could be due to the output format not writing empty files, or files being not immediately visible in the filesystem.\n"
     ]
    },
    {
     "name": "stderr",
     "output_type": "stream",
     "text": [
      "                                                                                \r"
     ]
    }
   ],
   "source": [
    "taxis_df \\\n",
    "    .withColumn(\"pickup_yr\", year(col(\"pickup_ts\"))) \\\n",
    "    .withColumn(\"pickup_qt\", quarter(col(\"pickup_ts\"))) \\\n",
    "    .filter(\"pickup_yr >= 2020\") \\\n",
    "    .filter(\"pickup_yr <= 2021\") \\\n",
    "    .write.saveAsTable(\"taxis_brz\", format=\"parquet\", mode=\"overwrite\")"
   ]
  },
  {
   "cell_type": "code",
   "execution_count": null,
   "metadata": {},
   "outputs": [],
   "source": []
  }
 ],
 "metadata": {
  "kernelspec": {
   "display_name": "Python 3.10.6 64-bit",
   "language": "python",
   "name": "python3"
  },
  "language_info": {
   "codemirror_mode": {
    "name": "ipython",
    "version": 3
   },
   "file_extension": ".py",
   "mimetype": "text/x-python",
   "name": "python",
   "nbconvert_exporter": "python",
   "pygments_lexer": "ipython3",
   "version": "3.8.10"
  },
  "orig_nbformat": 4,
  "vscode": {
   "interpreter": {
    "hash": "916dbcbb3f70747c44a77c7bcd40155683ae19c65e1c03b4aa3499c5328201f1"
   }
  }
 },
 "nbformat": 4,
 "nbformat_minor": 2
}
